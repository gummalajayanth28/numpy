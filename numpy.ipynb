{
  "cells": [
    {
      "cell_type": "markdown",
      "metadata": {
        "id": "QhWIoJgeiIKj"
      },
      "source": [
        "# Detailed Introduction to NumPy for Data Science\n",
        "\n",
        "NumPy (Numerical Python) is the foundational package for numerical computing in Python. It offers powerful data structures like arrays and matrices, and a variety of functions to perform operations on these structures efficiently. Understanding NumPy is crucial for data science, as it forms the basis of many other libraries like pandas, scikit-learn, and TensorFlow."
      ],
      "id": "QhWIoJgeiIKj"
    },
    {
      "cell_type": "markdown",
      "metadata": {
        "id": "x_pw5rAyiIKl"
      },
      "source": [
        "## 1. Importing NumPy\n",
        "\n",
        "We start by importing the NumPy library. It is standard practice to import NumPy as `np` to keep your code concise and clear."
      ],
      "id": "x_pw5rAyiIKl"
    },
    {
      "cell_type": "code",
      "execution_count": null,
      "metadata": {
        "id": "6I8z5eYYiIKl"
      },
      "outputs": [],
      "source": [
        "import numpy as np"
      ],
      "id": "6I8z5eYYiIKl"
    },
    {
      "cell_type": "markdown",
      "metadata": {
        "id": "NBnZH8gBiIKm"
      },
      "source": [
        "## 2. Creating NumPy Arrays\n",
        "\n",
        "NumPy arrays are the core of the NumPy library. They are similar to Python lists but are more powerful due to their ability to handle large datasets and perform operations efficiently.\n",
        "\n",
        "### 2.1. Creating Arrays from Lists\n",
        "You can create a NumPy array from a Python list using the `np.array()` function."
      ],
      "id": "NBnZH8gBiIKm"
    },
    {
      "cell_type": "code",
      "execution_count": null,
      "metadata": {
        "id": "p9_ISXwciIKm"
      },
      "outputs": [],
      "source": [
        "# Creating a NumPy array from a Python list\n",
        "array_from_list = np.array([1, 2, 3, 4, 5])\n",
        "print(\"Array from list:\", array_from_list)"
      ],
      "id": "p9_ISXwciIKm"
    },
    {
      "cell_type": "markdown",
      "metadata": {
        "id": "9NjC8Z5uiIKn"
      },
      "source": [
        "### 2.2. Arrays with Specific Values\n",
        "NumPy provides functions to create arrays filled with zeros, ones, or a specific range of values. These are useful for initializing data structures."
      ],
      "id": "9NjC8Z5uiIKn"
    },
    {
      "cell_type": "code",
      "execution_count": null,
      "metadata": {
        "id": "_EOmHvoJiIKn"
      },
      "outputs": [],
      "source": [
        "# Creating an array of zeros\n",
        "zeros_array = np.zeros((3, 3))  # 3x3 matrix of zeros\n",
        "print(\"Zeros Array:\\n\", zeros_array)\n",
        "\n",
        "# Creating an array of ones\n",
        "ones_array = np.ones((2, 4))  # 2x4 matrix of ones\n",
        "print(\"Ones Array:\\n\", ones_array)\n",
        "\n",
        "# Creating an array with a specific range\n",
        "range_array = np.arange(0, 10, 2)  # Array with values [0, 2, 4, 6, 8]\n",
        "print(\"Range Array:\", range_array)\n",
        "\n",
        "# Creating an array with random numbers\n",
        "random_array = np.random.random((2, 2))  # 2x2 matrix of random numbers between 0 and 1\n",
        "print(\"Random Array:\\n\", random_array)"
      ],
      "id": "_EOmHvoJiIKn"
    },
    {
      "cell_type": "markdown",
      "metadata": {
        "id": "9qOk-QJqiIKn"
      },
      "source": [
        "### 2.3. Array of Evenly Spaced Numbers\n",
        "The `np.linspace` function creates an array of evenly spaced numbers over a specified range. This is particularly useful for generating values for plotting graphs."
      ],
      "id": "9qOk-QJqiIKn"
    },
    {
      "cell_type": "code",
      "execution_count": null,
      "metadata": {
        "id": "EYwWQggKiIKn"
      },
      "outputs": [],
      "source": [
        "# Creating an array of 10 evenly spaced numbers between 0 and 1\n",
        "linspace_array = np.linspace(0, 1, 10)\n",
        "print(\"Linspace Array:\", linspace_array)"
      ],
      "id": "EYwWQggKiIKn"
    },
    {
      "cell_type": "markdown",
      "metadata": {
        "id": "8ZPnqpN-iIKo"
      },
      "source": [
        "## 3. Array Attributes\n",
        "\n",
        "NumPy arrays have several attributes that are useful for understanding the properties of the array.\n",
        "\n",
        "### 3.1. Array Shape\n",
        "The shape of an array is a tuple that gives the size of the array along each dimension."
      ],
      "id": "8ZPnqpN-iIKo"
    },
    {
      "cell_type": "code",
      "execution_count": null,
      "metadata": {
        "id": "kwW6Rk5WiIKo"
      },
      "outputs": [],
      "source": [
        "array = np.array([[1, 2, 3], [4, 5, 6], [7, 8, 9]])\n",
        "print(\"Shape of the array:\", array.shape)"
      ],
      "id": "kwW6Rk5WiIKo"
    },
    {
      "cell_type": "markdown",
      "metadata": {
        "id": "ZUQGrtwEiIKo"
      },
      "source": [
        "### 3.2. Number of Dimensions\n",
        "The `ndim` attribute returns the number of dimensions (axes) of the array."
      ],
      "id": "ZUQGrtwEiIKo"
    },
    {
      "cell_type": "code",
      "execution_count": null,
      "metadata": {
        "id": "uFSqtsf3iIKo"
      },
      "outputs": [],
      "source": [
        "print(\"Number of dimensions:\", array.ndim)"
      ],
      "id": "uFSqtsf3iIKo"
    },
    {
      "cell_type": "markdown",
      "metadata": {
        "id": "CQfNrJe2iIKo"
      },
      "source": [
        "### 3.3. Array Size\n",
        "The `size` attribute returns the total number of elements in the array."
      ],
      "id": "CQfNrJe2iIKo"
    },
    {
      "cell_type": "code",
      "execution_count": null,
      "metadata": {
        "id": "Z8d8rkoliIKo"
      },
      "outputs": [],
      "source": [
        "print(\"Size of the array:\", array.size)"
      ],
      "id": "Z8d8rkoliIKo"
    },
    {
      "cell_type": "markdown",
      "metadata": {
        "id": "hlMqSKoyiIKo"
      },
      "source": [
        "## 4. Reshaping Arrays\n",
        "\n",
        "Reshaping arrays is a common operation, especially when preparing data for machine learning models. The `reshape` method allows you to change the shape of an array without changing its data."
      ],
      "id": "hlMqSKoyiIKo"
    },
    {
      "cell_type": "code",
      "execution_count": null,
      "metadata": {
        "id": "v9Dpk4sHiIKp"
      },
      "outputs": [],
      "source": [
        "# Reshaping a 1D array to a 2D array\n",
        "reshaped_array = np.arange(12).reshape((3, 4))  # 3x4 matrix\n",
        "print(\"Reshaped Array (3x4):\\n\", reshaped_array)"
      ],
      "id": "v9Dpk4sHiIKp"
    },
    {
      "cell_type": "markdown",
      "metadata": {
        "id": "At3d-4XiiIKp"
      },
      "source": [
        "### Reshaping for Machine Learning\n",
        "Reshaping is particularly useful in machine learning where you need to transform data into a shape suitable for training models, such as converting 1D arrays into 2D feature matrices."
      ],
      "id": "At3d-4XiiIKp"
    },
    {
      "cell_type": "code",
      "execution_count": null,
      "metadata": {
        "id": "etvnCgGOiIKp"
      },
      "outputs": [],
      "source": [
        "# Example: Reshaping data for machine learning\n",
        "data = np.arange(24).reshape((6, 4))  # 6 samples, 4 features each\n",
        "print(\"Data reshaped for machine learning:\\n\", data)"
      ],
      "id": "etvnCgGOiIKp"
    },
    {
      "cell_type": "markdown",
      "metadata": {
        "id": "pLA69mpKiIKp"
      },
      "source": [
        "## 5. Indexing and Slicing Arrays\n",
        "\n",
        "Indexing and slicing are powerful tools for accessing specific elements or subarrays within a larger array. This allows you to manipulate parts of the data without affecting the entire dataset."
      ],
      "id": "pLA69mpKiIKp"
    },
    {
      "cell_type": "markdown",
      "metadata": {
        "id": "C46RuSDriIKp"
      },
      "source": [
        "### 5.1. Basic Indexing\n",
        "You can access individual elements in a NumPy array by specifying their indices."
      ],
      "id": "C46RuSDriIKp"
    },
    {
      "cell_type": "code",
      "execution_count": null,
      "metadata": {
        "id": "QqMrG9mjiIKp"
      },
      "outputs": [],
      "source": [
        "# Accessing elements\n",
        "element = array[1, 2]  # Element at row index 1, column index 2 (value 6)\n",
        "print(\"Element at index [1, 2]:\", element)"
      ],
      "id": "QqMrG9mjiIKp"
    },
    {
      "cell_type": "markdown",
      "metadata": {
        "id": "zsTi9o0niIKp"
      },
      "source": [
        "### 5.2. Slicing\n",
        "Slicing allows you to extract subarrays from an array by specifying a range of indices. This is useful for working with subsets of data."
      ],
      "id": "zsTi9o0niIKp"
    },
    {
      "cell_type": "code",
      "execution_count": null,
      "metadata": {
        "id": "9qzEmJ-KiIKp"
      },
      "outputs": [],
      "source": [
        "# Slicing to get a subarray\n",
        "subarray = array[0:2, 1:3]  # Subarray from rows 0 to 1 and columns 1 to 2\n",
        "print(\"Subarray:\\n\", subarray)\n",
        "\n",
        "# Another example: selecting all rows and specific columns\n",
        "col_slice = array[:, 1:3]  # All rows, columns 1 to 2\n",
        "print(\"Column Slice (all rows, cols 1 to 2):\\n\", col_slice)"
      ],
      "id": "9qzEmJ-KiIKp"
    },
    {
      "cell_type": "markdown",
      "metadata": {
        "id": "Y0hmmS2ciIKp"
      },
      "source": [
        "### 5.3. Advanced Indexing\n",
        "Advanced indexing allows you to use arrays of indices to access multiple elements at once. This is useful for more complex data selections."
      ],
      "id": "Y0hmmS2ciIKp"
    },
    {
      "cell_type": "code",
      "execution_count": null,
      "metadata": {
        "id": "UxwmEHdpiIKp"
      },
      "outputs": [],
      "source": [
        "# Using a list of indices to access specific elements\n",
        "indexed_elements = array[[0, 1], [1, 2]]  # Elements (0, 1) and (1, 2)\n",
        "print(\"Indexed Elements:\", indexed_elements)"
      ],
      "id": "UxwmEHdpiIKp"
    },
    {
      "cell_type": "markdown",
      "metadata": {
        "id": "Qn0lFvWqiIKp"
      },
      "source": [
        "## 6. Array Operations\n",
        "\n",
        "NumPy supports a wide range of operations on arrays, including element-wise operations, aggregation functions, and more. These operations are highly optimized for performance."
      ],
      "id": "Qn0lFvWqiIKp"
    },
    {
      "cell_type": "markdown",
      "metadata": {
        "id": "zYuCs6TsiIKq"
      },
      "source": [
        "### 6.1. Element-wise Operations\n",
        "Element-wise operations perform arithmetic or mathematical operations on each element of the array individually."
      ],
      "id": "zYuCs6TsiIKq"
    },
    {
      "cell_type": "code",
      "execution_count": null,
      "metadata": {
        "id": "-zdA2y0wiIKq"
      },
      "outputs": [],
      "source": [
        "# Element-wise addition\n",
        "array1 = np.array([1, 2, 3])\n",
        "array2 = np.array([4, 5, 6])\n",
        "sum_array = array1 + array2  # [5, 7, 9]\n",
        "print(\"Element-wise Sum:\", sum_array)\n",
        "\n",
        "# Element-wise multiplication\n",
        "prod_array = array1 * array2  # [4, 10, 18]\n",
        "print(\"Element-wise Product:\", prod_array)\n",
        "\n",
        "# Using mathematical functions\n",
        "sqrt_array = np.sqrt(array1)  # [1.0, 1.414, 1.732]\n",
        "print(\"Square Root of array1:\", sqrt_array)"
      ],
      "id": "-zdA2y0wiIKq"
    },
    {
      "cell_type": "markdown",
      "metadata": {
        "id": "HTwTdz2qiIKq"
      },
      "source": [
        "### 6.2. Aggregation Functions\n",
        "Aggregation functions summarize data across different dimensions of the array, such as computing sums, means, or maximum values."
      ],
      "id": "HTwTdz2qiIKq"
    },
    {
      "cell_type": "code",
      "execution_count": null,
      "metadata": {
        "id": "GCPK5yH_iIKq"
      },
      "outputs": [],
      "source": [
        "array = np.array([[1, 2, 3], [4, 5, 6], [7, 8, 9]])\n",
        "\n",
        "# Summing all elements\n",
        "total_sum = array.sum()  # 45\n",
        "print(\"Total Sum:\", total_sum)\n",
        "\n",
        "# Finding the maximum value\n",
        "max_value = array.max()  # 9\n",
        "print(\"Maximum Value:\", max_value)\n",
        "\n",
        "# Computing the mean\n",
        "mean_value = array.mean()  # 5.0\n",
        "print(\"Mean Value:\", mean_value)"
      ],
      "id": "GCPK5yH_iIKq"
    },
    {
      "cell_type": "markdown",
      "metadata": {
        "id": "E0h6sdJNiIKq"
      },
      "source": [
        "### 6.3. Axis-Based Operations\n",
        "Aggregation functions can also be applied along specific axes, which is useful for operations like summing rows or columns."
      ],
      "id": "E0h6sdJNiIKq"
    },
    {
      "cell_type": "code",
      "execution_count": null,
      "metadata": {
        "id": "CqWkAQiGiIKq"
      },
      "outputs": [],
      "source": [
        "# Sum along the rows (axis 1)\n",
        "row_sum = array.sum(axis=1)  # [6, 15, 24]\n",
        "print(\"Sum of Rows:\", row_sum)\n",
        "\n",
        "# Mean along the columns (axis 0)\n",
        "col_mean = array.mean(axis=0)  # [4.0, 5.0, 6.0]\n",
        "print(\"Mean of Columns:\", col_mean)"
      ],
      "id": "CqWkAQiGiIKq"
    },
    {
      "cell_type": "markdown",
      "metadata": {
        "id": "wd4bsZHriIKq"
      },
      "source": [
        "## 7. Boolean Indexing\n",
        "\n",
        "Boolean indexing allows you to filter arrays based on conditions, making it easy to select data that meets certain criteria."
      ],
      "id": "wd4bsZHriIKq"
    },
    {
      "cell_type": "code",
      "execution_count": null,
      "metadata": {
        "id": "4dgxLREziIKq"
      },
      "outputs": [],
      "source": [
        "# Boolean indexing example\n",
        "array = np.array([1, 2, 3, 4, 5, 6])\n",
        "\n",
        "# Selecting elements greater than 3\n",
        "greater_than_three = array[array > 3]  # [4, 5, 6]\n",
        "print(\"Elements greater than 3:\", greater_than_three)"
      ],
      "id": "4dgxLREziIKq"
    },
    {
      "cell_type": "markdown",
      "metadata": {
        "id": "dz7VpX_JiIKq"
      },
      "source": [
        "## 8. Combining and Splitting Arrays\n",
        "\n",
        "Combining and splitting arrays are useful operations for data manipulation. You can concatenate multiple arrays into one or split a single array into multiple smaller arrays."
      ],
      "id": "dz7VpX_JiIKq"
    },
    {
      "cell_type": "markdown",
      "metadata": {
        "id": "zu15ulq6iIKq"
      },
      "source": [
        "### 8.1. Concatenating Arrays\n",
        "Concatenating arrays allows you to join them along a specific axis using functions like `np.concatenate`, `np.vstack`, and `np.hstack`."
      ],
      "id": "zu15ulq6iIKq"
    },
    {
      "cell_type": "code",
      "execution_count": null,
      "metadata": {
        "id": "_CXR22BkiIKq"
      },
      "outputs": [],
      "source": [
        "# Concatenating arrays vertically (axis 0)\n",
        "array1 = np.array([[1, 2], [3, 4]])\n",
        "array2 = np.array([[5, 6]])\n",
        "vertical_stack = np.vstack((array1, array2))\n",
        "print(\"Vertical Stack:\\n\", vertical_stack)\n",
        "\n",
        "# Concatenating arrays horizontally (axis 1)\n",
        "horizontal_stack = np.hstack((array1, array2.T))  # Transpose array2 for horizontal stack\n",
        "print(\"Horizontal Stack:\\n\", horizontal_stack)"
      ],
      "id": "_CXR22BkiIKq"
    },
    {
      "cell_type": "markdown",
      "metadata": {
        "id": "daHluy1miIKr"
      },
      "source": [
        "### 8.2. Splitting Arrays\n",
        "Splitting an array into multiple smaller arrays can be done using `np.split`, `np.vsplit`, and `np.hsplit`."
      ],
      "id": "daHluy1miIKr"
    },
    {
      "cell_type": "code",
      "execution_count": null,
      "metadata": {
        "id": "ZSo3CiuxiIKr"
      },
      "outputs": [],
      "source": [
        "# Splitting an array into 3 sub-arrays along axis 1\n",
        "array = np.arange(9).reshape(3, 3)\n",
        "split_arrays = np.split(array, 3, axis=1)\n",
        "print(\"Original Array:\\n\", array)\n",
        "print(\"Split Arrays:\")\n",
        "for i, sub_array in enumerate(split_arrays):\n",
        "    print(f\"Sub-array {i+1}:\\n\", sub_array)"
      ],
      "id": "ZSo3CiuxiIKr"
    },
    {
      "cell_type": "markdown",
      "metadata": {
        "id": "2tluS600iIKr"
      },
      "source": [
        "## 9. Array Broadcasting\n",
        "\n",
        "Broadcasting allows you to perform operations on arrays of different shapes, which can be very powerful for mathematical operations."
      ],
      "id": "2tluS600iIKr"
    },
    {
      "cell_type": "code",
      "execution_count": null,
      "metadata": {
        "id": "pEeSdWiFiIKr"
      },
      "outputs": [],
      "source": [
        "# Broadcasting example\n",
        "array = np.array([1, 2, 3])\n",
        "scalar = 2\n",
        "\n",
        "# Adding a scalar to an array\n",
        "broadcasted_array = array + scalar  # [3, 4, 5]\n",
        "print(\"Broadcasted Array:\", broadcasted_array)\n",
        "\n",
        "# Broadcasting with a 2D array\n",
        "array_2d = np.array([[1, 2, 3], [4, 5, 6]])\n",
        "scalar_2d = 10\n",
        "broadcasted_array_2d = array_2d + scalar_2d  # Adding 10 to each element\n",
        "print(\"Broadcasted 2D Array:\\n\", broadcasted_array_2d)"
      ],
      "id": "pEeSdWiFiIKr"
    },
    {
      "cell_type": "markdown",
      "metadata": {
        "id": "-CMOeN63iIKr"
      },
      "source": [
        "## 10. Array Copying and Views\n",
        "\n",
        "In NumPy, arrays can be copied or viewed. A copy creates a new array with its own data, while a view creates a new array object that references the original data. Modifications to a view will affect the original array, while modifications to a copy will not."
      ],
      "id": "-CMOeN63iIKr"
    },
    {
      "cell_type": "code",
      "execution_count": null,
      "metadata": {
        "id": "-xZFsC6XiIKr"
      },
      "outputs": [],
      "source": [
        "# Creating an original array\n",
        "original_array = np.array([1, 2, 3, 4])\n",
        "\n",
        "# Creating a copy\n",
        "array_copy = original_array.copy()\n",
        "array_copy[0] = 100  # Modify copy\n",
        "print(\"Original Array:\", original_array)\n",
        "print(\"Modified Copy:\", array_copy)\n",
        "\n",
        "# Creating a view\n",
        "array_view = original_array.view()\n",
        "array_view[0] = 200  # Modify view\n",
        "print(\"Original Array after modifying view:\", original_array)\n",
        "print(\"View:\", array_view)"
      ],
      "id": "-xZFsC6XiIKr"
    },
    {
      "cell_type": "markdown",
      "metadata": {
        "id": "kixMrkxBiIKs"
      },
      "source": [
        "## 11. Mathematical Functions\n",
        "\n",
        "NumPy provides a wide range of mathematical functions that can be applied element-wise to arrays. These functions include trigonometric functions, exponentiation, logarithms, and more."
      ],
      "id": "kixMrkxBiIKs"
    },
    {
      "cell_type": "code",
      "execution_count": null,
      "metadata": {
        "id": "NLWp3IjriIKs"
      },
      "outputs": [],
      "source": [
        "# Applying mathematical functions\n",
        "array = np.array([1, 4, 9, 16])\n",
        "\n",
        "# Square root\n",
        "sqrt_array = np.sqrt(array)  # [1.0, 2.0, 3.0, 4.0]\n",
        "print(\"Square Root:\", sqrt_array)\n",
        "\n",
        "# Exponential\n",
        "exp_array = np.exp(array)  # [2.718, 54.598, 810.558, 8882.208]\n",
        "print(\"Exponential:\", exp_array)\n",
        "\n",
        "# Logarithm\n",
        "log_array = np.log(array)  # [0.0, 1.386, 2.197, 2.773]\n",
        "print(\"Logarithm:\", log_array)"
      ],
      "id": "NLWp3IjriIKs"
    },
    {
      "cell_type": "markdown",
      "metadata": {
        "id": "_YEJGyMSiIKs"
      },
      "source": [
        "## 12. Linear Algebra Operations\n",
        "\n",
        "NumPy includes several functions for performing linear algebra operations such as matrix multiplication, determinants, and inverses. These are essential for many applications in data science and machine learning."
      ],
      "id": "_YEJGyMSiIKs"
    },
    {
      "cell_type": "code",
      "execution_count": null,
      "metadata": {
        "id": "Bn3IDkTBiIKs"
      },
      "outputs": [],
      "source": [
        "# Linear algebra operations\n",
        "matrix1 = np.array([[1, 2], [3, 4]])\n",
        "matrix2 = np.array([[5, 6], [7, 8]])\n",
        "\n",
        "# Matrix multiplication\n",
        "matrix_product = np.dot(matrix1, matrix2)\n",
        "print(\"Matrix Product:\\n\", matrix_product)\n",
        "\n",
        "# Determinant\n",
        "det_matrix1 = np.linalg.det(matrix1)\n",
        "print(\"Determinant of matrix1:\", det_matrix1)\n",
        "\n",
        "# Inverse\n",
        "inverse_matrix1 = np.linalg.inv(matrix1)\n",
        "print(\"Inverse of matrix1:\\n\", inverse_matrix1)"
      ],
      "id": "Bn3IDkTBiIKs"
    },
    {
      "cell_type": "markdown",
      "metadata": {
        "id": "HmLDymJViIKs"
      },
      "source": [
        "## Conclusion\n",
        "\n",
        "This notebook provided a comprehensive introduction to NumPy for data manipulation. It covered array creation, reshaping, indexing, mathematical operations, broadcasting, copying, and linear algebra. Mastery of these concepts is fundamental for effective data manipulation and analysis in Python."
      ],
      "id": "HmLDymJViIKs"
    }
  ],
  "metadata": {
    "kernelspec": {
      "display_name": "Python 3",
      "language": "python",
      "name": "python3"
    },
    "language_info": {
      "codemirror_mode": {
        "name": "ipython",
        "version": 3
      },
      "file_extension": ".py",
      "mimetype": "text/x-python",
      "name": "python",
      "nbconvert_exporter": "python",
      "pygments_lexer": "ipython3",
      "version": "3.8.5"
    },
    "colab": {
      "provenance": []
    }
  },
  "nbformat": 4,
  "nbformat_minor": 5
}